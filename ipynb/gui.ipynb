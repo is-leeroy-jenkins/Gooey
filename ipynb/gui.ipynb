{
 "cells": [
  {
   "cell_type": "code",
   "id": "initial_id",
   "metadata": {
    "collapsed": true,
    "ExecuteTime": {
     "end_time": "2025-07-24T14:53:35.044467Z",
     "start_time": "2025-07-24T14:53:35.037571Z"
    }
   },
   "source": [
    "from booger import ( FileDialog, FolderDialog, InputDialog, SaveFileDialog, Notification,\n",
    "                     ExcelForm, PdfForm, ContactForm, ComboBoxDialog, ListBoxDialog, GoogleDialog,\n",
    "                     EmailDialog, BudgetForm, FileBrowser, GraphForm, ThemeSelector )"
   ],
   "outputs": [],
   "execution_count": 21
  },
  {
   "metadata": {
    "ExecuteTime": {
     "end_time": "2025-07-24T13:54:41.214705Z",
     "start_time": "2025-07-24T13:54:39.919011Z"
    }
   },
   "cell_type": "code",
   "source": [
    "fd = FileDialog( )\n",
    "fd.show( )\n"
   ],
   "id": "8925f4b5edadd20b",
   "outputs": [],
   "execution_count": 9
  },
  {
   "metadata": {
    "ExecuteTime": {
     "end_time": "2025-07-24T13:54:38.527109Z",
     "start_time": "2025-07-24T13:54:34.193051Z"
    }
   },
   "cell_type": "code",
   "source": [
    "sd = SaveFileDialog( )\n",
    "sd.show( )"
   ],
   "id": "4bf4cf8d77fa4fc1",
   "outputs": [],
   "execution_count": 8
  },
  {
   "metadata": {
    "ExecuteTime": {
     "end_time": "2025-07-24T14:14:51.283867Z",
     "start_time": "2025-07-24T14:14:48.093868Z"
    }
   },
   "cell_type": "code",
   "source": [
    "input = InputDialog( )\n",
    "input.show( )"
   ],
   "id": "ff55e13ce7a1b777",
   "outputs": [],
   "execution_count": 10
  },
  {
   "metadata": {
    "ExecuteTime": {
     "end_time": "2025-07-24T14:37:35.979955Z",
     "start_time": "2025-07-24T14:37:27.650207Z"
    }
   },
   "cell_type": "code",
   "source": [
    "notify = Notification( )\n",
    "notify.show( )"
   ],
   "id": "98cc1450d8544000",
   "outputs": [
    {
     "data": {
      "text/plain": [
       "'__MESSAGE_CLICKED__'"
      ]
     },
     "execution_count": 11,
     "metadata": {},
     "output_type": "execute_result"
    }
   ],
   "execution_count": 11
  },
  {
   "metadata": {
    "ExecuteTime": {
     "end_time": "2025-07-24T14:38:34.891959Z",
     "start_time": "2025-07-24T14:37:39.698868Z"
    }
   },
   "cell_type": "code",
   "source": [
    "pdf = PdfForm( )\n",
    "pdf.show( )"
   ],
   "id": "857764b98d76b94f",
   "outputs": [],
   "execution_count": 12
  },
  {
   "metadata": {
    "ExecuteTime": {
     "end_time": "2025-07-24T14:45:18.850253Z",
     "start_time": "2025-07-24T14:44:09.472963Z"
    }
   },
   "cell_type": "code",
   "source": [
    "excel = ExcelForm( )\n",
    "excel.show( )"
   ],
   "id": "cc0713e2c3d77514",
   "outputs": [],
   "execution_count": 18
  },
  {
   "metadata": {
    "ExecuteTime": {
     "end_time": "2025-07-24T14:54:15.723892Z",
     "start_time": "2025-07-24T14:53:39.631073Z"
    }
   },
   "cell_type": "code",
   "source": [
    "theme = ThemeSelector( )\n",
    "theme.show( )"
   ],
   "id": "99910f1e84aebfa3",
   "outputs": [],
   "execution_count": 22
  }
 ],
 "metadata": {
  "kernelspec": {
   "display_name": "Python 3",
   "language": "python",
   "name": "python3"
  },
  "language_info": {
   "codemirror_mode": {
    "name": "ipython",
    "version": 2
   },
   "file_extension": ".py",
   "mimetype": "text/x-python",
   "name": "python",
   "nbconvert_exporter": "python",
   "pygments_lexer": "ipython2",
   "version": "2.7.6"
  }
 },
 "nbformat": 4,
 "nbformat_minor": 5
}
