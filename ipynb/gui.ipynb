{
 "cells": [
  {
   "cell_type": "code",
   "id": "initial_id",
   "metadata": {
    "collapsed": true,
    "ExecuteTime": {
     "end_time": "2025-07-26T22:55:50.083905Z",
     "start_time": "2025-07-26T22:55:46.384703Z"
    }
   },
   "source": "from booger import *",
   "outputs": [],
   "execution_count": 1
  },
  {
   "metadata": {},
   "cell_type": "code",
   "source": "",
   "id": "5b10000d2ff6fa47",
   "outputs": [],
   "execution_count": null
  },
  {
   "metadata": {
    "ExecuteTime": {
     "end_time": "2025-07-26T17:45:03.126106Z",
     "start_time": "2025-07-26T17:44:57.419463Z"
    }
   },
   "cell_type": "code",
   "source": [
    "fd = FileDialog( )\n",
    "fd.show( )\n"
   ],
   "id": "8925f4b5edadd20b",
   "outputs": [],
   "execution_count": 2
  },
  {
   "metadata": {
    "ExecuteTime": {
     "end_time": "2025-07-26T14:38:57.689682Z",
     "start_time": "2025-07-26T14:38:55.339220Z"
    }
   },
   "cell_type": "code",
   "source": [
    "sd = SaveFileDialog( )\n",
    "sd.show( )"
   ],
   "id": "4bf4cf8d77fa4fc1",
   "outputs": [],
   "execution_count": 3
  },
  {
   "metadata": {
    "ExecuteTime": {
     "end_time": "2025-07-26T14:39:02.226786Z",
     "start_time": "2025-07-26T14:38:59.591084Z"
    }
   },
   "cell_type": "code",
   "source": [
    "input = InputDialog( )\n",
    "input.show( )"
   ],
   "id": "ff55e13ce7a1b777",
   "outputs": [],
   "execution_count": 4
  },
  {
   "metadata": {
    "ExecuteTime": {
     "end_time": "2025-07-24T14:37:35.979955Z",
     "start_time": "2025-07-24T14:37:27.650207Z"
    }
   },
   "cell_type": "code",
   "source": [
    "notify = Notification( )\n",
    "notify.show( )"
   ],
   "id": "98cc1450d8544000",
   "outputs": [
    {
     "data": {
      "text/plain": [
       "'__MESSAGE_CLICKED__'"
      ]
     },
     "execution_count": 11,
     "metadata": {},
     "output_type": "execute_result"
    }
   ],
   "execution_count": 11
  },
  {
   "metadata": {
    "ExecuteTime": {
     "end_time": "2025-07-24T14:38:34.891959Z",
     "start_time": "2025-07-24T14:37:39.698868Z"
    }
   },
   "cell_type": "code",
   "source": [
    "pdf = PdfForm( )\n",
    "pdf.show( )"
   ],
   "id": "857764b98d76b94f",
   "outputs": [],
   "execution_count": 12
  },
  {
   "metadata": {
    "ExecuteTime": {
     "end_time": "2025-07-24T14:45:18.850253Z",
     "start_time": "2025-07-24T14:44:09.472963Z"
    }
   },
   "cell_type": "code",
   "source": [
    "theme = ThemeSelector( )\n",
    "theme.show( )"
   ],
   "id": "cc0713e2c3d77514",
   "outputs": [],
   "execution_count": 18
  },
  {
   "metadata": {
    "ExecuteTime": {
     "end_time": "2025-07-26T22:56:01.715914Z",
     "start_time": "2025-07-26T22:55:52.434276Z"
    }
   },
   "cell_type": "code",
   "source": [
    "bar = InputWindow( )\n",
    "bar.show( )"
   ],
   "id": "99910f1e84aebfa3",
   "outputs": [
    {
     "name": "stdout",
     "output_type": "stream",
     "text": [
      "None {'-WEBSITES-': None, '-SOFTWARE-': None, '-ACCOUNT-IN-': None, '-USERID-IN-': None, '-PW-IN-': None, '-LOC-IN-': None, '-NOTES-': None, '-ACCT-LIST-': None}\n"
     ]
    }
   ],
   "execution_count": 2
  }
 ],
 "metadata": {
  "kernelspec": {
   "display_name": "Python 3",
   "language": "python",
   "name": "python3"
  },
  "language_info": {
   "codemirror_mode": {
    "name": "ipython",
    "version": 2
   },
   "file_extension": ".py",
   "mimetype": "text/x-python",
   "name": "python",
   "nbconvert_exporter": "python",
   "pygments_lexer": "ipython2",
   "version": "2.7.6"
  }
 },
 "nbformat": 4,
 "nbformat_minor": 5
}
